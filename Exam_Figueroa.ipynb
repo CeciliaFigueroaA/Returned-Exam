{
 "cells": [
  {
   "cell_type": "markdown",
   "metadata": {},
   "source": [
    "# Data Bootcamp Exam\n",
    "### October 22, 2018\n",
    "### Cecilia Figueroa Arrivillaga"
   ]
  },
  {
   "cell_type": "code",
   "execution_count": 39,
   "metadata": {},
   "outputs": [
    {
     "name": "stdout",
     "output_type": "stream",
     "text": [
      "Today is 2018-10-22\n",
      "Python version:\n",
      "3.6.4 |Anaconda, Inc.| (default, Jan 16 2018, 12:04:33) \n",
      "[GCC 4.2.1 Compatible Clang 4.0.1 (tags/RELEASE_401/final)]\n"
     ]
    }
   ],
   "source": [
    "# import packages \n",
    "import pandas as pd                   # data management\n",
    "import matplotlib.pyplot as plt       # graphics \n",
    "import datetime as dt                 # check today's date \n",
    "import sys                            # check Python version \n",
    "import numpy as np\n",
    "\n",
    "# IPython command, puts plots in notebook \n",
    "%matplotlib inline\n",
    "\n",
    "print('Today is', dt.date.today())\n",
    "print('Python version:\\n', sys.version, sep='') ## Question 0"
   ]
  },
  {
   "cell_type": "markdown",
   "metadata": {},
   "source": [
    "#### Cecilia Figueroa\n",
    "N12702440\n",
    "\n",
    "cfa239@nyu.edu"
   ]
  },
  {
   "cell_type": "markdown",
   "metadata": {},
   "source": [
    "## Question 1"
   ]
  },
  {
   "cell_type": "code",
   "execution_count": 4,
   "metadata": {},
   "outputs": [],
   "source": [
    "a = 2*3\n",
    "b = 2.0*3\n",
    "c = 'abc'\n",
    "d = ['This', \"is\", 'not', \"a\", 'string']\n",
    "e = d[3]\n",
    "f = (1, 2, 3)\n",
    "g = {1: 'Chase', 2: 'Dave', 3: 'Spencer'}\n",
    "h = 'foo' + 'bar'\n",
    "i = (1 != 0) # parens not needed, but they make code more understandable"
   ]
  },
  {
   "cell_type": "markdown",
   "metadata": {},
   "source": [
    "a is an integer with value 6. b is a float with value 6. c is a string 'abc'. d is a list of strings. e is a string from list d: \"a\". f is a tuple of 3 integers. gi is a dictionary with keys 1,2,3 and values 'Chase','Dave','Spencer'. h is a concatenation of strings. i is a boolean with value True. "
   ]
  },
  {
   "cell_type": "code",
   "execution_count": 5,
   "metadata": {},
   "outputs": [
    {
     "data": {
      "text/plain": [
       "int"
      ]
     },
     "execution_count": 5,
     "metadata": {},
     "output_type": "execute_result"
    }
   ],
   "source": [
    "type(a)"
   ]
  },
  {
   "cell_type": "code",
   "execution_count": 6,
   "metadata": {},
   "outputs": [
    {
     "data": {
      "text/plain": [
       "float"
      ]
     },
     "execution_count": 6,
     "metadata": {},
     "output_type": "execute_result"
    }
   ],
   "source": [
    "type(b)"
   ]
  },
  {
   "cell_type": "code",
   "execution_count": 7,
   "metadata": {},
   "outputs": [
    {
     "data": {
      "text/plain": [
       "str"
      ]
     },
     "execution_count": 7,
     "metadata": {},
     "output_type": "execute_result"
    }
   ],
   "source": [
    "type(c)"
   ]
  },
  {
   "cell_type": "code",
   "execution_count": 8,
   "metadata": {},
   "outputs": [
    {
     "data": {
      "text/plain": [
       "list"
      ]
     },
     "execution_count": 8,
     "metadata": {},
     "output_type": "execute_result"
    }
   ],
   "source": [
    "type(d)"
   ]
  },
  {
   "cell_type": "code",
   "execution_count": 9,
   "metadata": {},
   "outputs": [
    {
     "data": {
      "text/plain": [
       "str"
      ]
     },
     "execution_count": 9,
     "metadata": {},
     "output_type": "execute_result"
    }
   ],
   "source": [
    "type(e)"
   ]
  },
  {
   "cell_type": "code",
   "execution_count": 10,
   "metadata": {},
   "outputs": [
    {
     "data": {
      "text/plain": [
       "tuple"
      ]
     },
     "execution_count": 10,
     "metadata": {},
     "output_type": "execute_result"
    }
   ],
   "source": [
    "type(f)"
   ]
  },
  {
   "cell_type": "code",
   "execution_count": 11,
   "metadata": {},
   "outputs": [
    {
     "data": {
      "text/plain": [
       "dict"
      ]
     },
     "execution_count": 11,
     "metadata": {},
     "output_type": "execute_result"
    }
   ],
   "source": [
    "type(g)"
   ]
  },
  {
   "cell_type": "code",
   "execution_count": 12,
   "metadata": {},
   "outputs": [
    {
     "data": {
      "text/plain": [
       "str"
      ]
     },
     "execution_count": 12,
     "metadata": {},
     "output_type": "execute_result"
    }
   ],
   "source": [
    "type(h)"
   ]
  },
  {
   "cell_type": "code",
   "execution_count": 13,
   "metadata": {},
   "outputs": [
    {
     "data": {
      "text/plain": [
       "bool"
      ]
     },
     "execution_count": 13,
     "metadata": {},
     "output_type": "execute_result"
    }
   ],
   "source": [
    "type(i)"
   ]
  },
  {
   "cell_type": "markdown",
   "metadata": {},
   "source": [
    "## Question 2"
   ]
  },
  {
   "cell_type": "code",
   "execution_count": 14,
   "metadata": {},
   "outputs": [],
   "source": [
    "first = 'Wilhelmina'\n",
    "last  = 'Grubbly-Plank'"
   ]
  },
  {
   "cell_type": "code",
   "execution_count": 16,
   "metadata": {},
   "outputs": [
    {
     "data": {
      "text/plain": [
       "'G'"
      ]
     },
     "execution_count": 16,
     "metadata": {},
     "output_type": "execute_result"
    }
   ],
   "source": [
    "#part a\n",
    "last[0]"
   ]
  },
  {
   "cell_type": "code",
   "execution_count": 30,
   "metadata": {},
   "outputs": [],
   "source": [
    "#part b\n"
   ]
  },
  {
   "cell_type": "code",
   "execution_count": 19,
   "metadata": {},
   "outputs": [
    {
     "data": {
      "text/plain": [
       "'Wilhelmina G.'"
      ]
     },
     "execution_count": 19,
     "metadata": {},
     "output_type": "execute_result"
    }
   ],
   "source": [
    "#part c\n",
    "combo = first+' '+last[0]+'.'\n",
    "combo"
   ]
  },
  {
   "cell_type": "code",
   "execution_count": 23,
   "metadata": {},
   "outputs": [],
   "source": [
    "#part d\n",
    "def name(first,last):\n",
    "    combo = first+' '+last[0]+'.'\n",
    "    return(combo)"
   ]
  },
  {
   "cell_type": "code",
   "execution_count": 25,
   "metadata": {},
   "outputs": [
    {
     "data": {
      "text/plain": [
       "'Cecilia F.'"
      ]
     },
     "execution_count": 25,
     "metadata": {},
     "output_type": "execute_result"
    }
   ],
   "source": [
    "#part d\n",
    "name('Cecilia','Figueroa')"
   ]
  },
  {
   "cell_type": "markdown",
   "metadata": {},
   "source": [
    "## Question 3"
   ]
  },
  {
   "cell_type": "code",
   "execution_count": 42,
   "metadata": {},
   "outputs": [
    {
     "name": "stdout",
     "output_type": "stream",
     "text": [
      "fizz\n",
      "buzz\n",
      "fizzbuzz\n",
      "1\n",
      "fizz\n",
      "buzz\n",
      "fizzbuzz\n",
      "2\n",
      "fizz\n",
      "buzz\n",
      "fizzbuzz\n",
      "4\n",
      "fizz\n",
      "buzz\n",
      "fizzbuzz\n",
      "7\n",
      "fizz\n",
      "buzz\n",
      "fizzbuzz\n",
      "8\n",
      "fizz\n",
      "buzz\n",
      "fizzbuzz\n",
      "11\n",
      "fizz\n",
      "buzz\n",
      "fizzbuzz\n",
      "13\n",
      "fizz\n",
      "buzz\n",
      "fizzbuzz\n",
      "14\n",
      "fizz\n",
      "buzz\n",
      "fizzbuzz\n",
      "16\n",
      "fizz\n",
      "buzz\n",
      "fizzbuzz\n",
      "17\n",
      "fizz\n",
      "buzz\n",
      "fizzbuzz\n",
      "19\n",
      "fizz\n",
      "buzz\n",
      "fizzbuzz\n",
      "22\n",
      "fizz\n",
      "buzz\n",
      "fizzbuzz\n",
      "23\n",
      "fizz\n",
      "buzz\n",
      "fizzbuzz\n"
     ]
    },
    {
     "ename": "TypeError",
     "evalue": "unsupported operand type(s) for ^: 'int' and 'float'",
     "output_type": "error",
     "traceback": [
      "\u001b[0;31m---------------------------------------------------------------------------\u001b[0m",
      "\u001b[0;31mTypeError\u001b[0m                                 Traceback (most recent call last)",
      "\u001b[0;32m<ipython-input-42-7b91d3c65152>\u001b[0m in \u001b[0;36m<module>\u001b[0;34m()\u001b[0m\n\u001b[1;32m      9\u001b[0m         \u001b[0mprint\u001b[0m\u001b[0;34m(\u001b[0m\u001b[0mi\u001b[0m\u001b[0;34m)\u001b[0m\u001b[0;34m\u001b[0m\u001b[0m\n\u001b[1;32m     10\u001b[0m     \u001b[0;32mif\u001b[0m \u001b[0mi\u001b[0m\u001b[0;34m%\u001b[0m\u001b[0;36m3\u001b[0m\u001b[0;34m!=\u001b[0m\u001b[0;36m0\u001b[0m \u001b[0;32mand\u001b[0m \u001b[0mi\u001b[0m\u001b[0;34m%\u001b[0m\u001b[0;36m5\u001b[0m\u001b[0;34m!=\u001b[0m\u001b[0;36m0\u001b[0m \u001b[0;32mand\u001b[0m \u001b[0mi\u001b[0m\u001b[0;34m>\u001b[0m\u001b[0;36m25\u001b[0m\u001b[0;34m:\u001b[0m\u001b[0;34m\u001b[0m\u001b[0m\n\u001b[0;32m---> 11\u001b[0;31m         \u001b[0mprint\u001b[0m\u001b[0;34m(\u001b[0m\u001b[0mi\u001b[0m\u001b[0;34m^\u001b[0m\u001b[0;34m(\u001b[0m\u001b[0;36m1\u001b[0m\u001b[0;34m/\u001b[0m\u001b[0;36m2\u001b[0m\u001b[0;34m)\u001b[0m\u001b[0;34m)\u001b[0m\u001b[0;34m\u001b[0m\u001b[0m\n\u001b[0m",
      "\u001b[0;31mTypeError\u001b[0m: unsupported operand type(s) for ^: 'int' and 'float'"
     ]
    }
   ],
   "source": [
    "for i in range(0,51):\n",
    "    if i%3 and i%5!=0:\n",
    "        print('fizz')\n",
    "    if i%5 and i%3!=0:\n",
    "        print('buzz')\n",
    "    if i%3 and i%5:\n",
    "        print('fizzbuzz')\n",
    "    if i%3!=0 and i%5!=0 and i<=25:\n",
    "        print(i)\n",
    "    if i%3!=0 and i%5!=0 and i>25:\n",
    "        print(i^(1/2))"
   ]
  },
  {
   "cell_type": "markdown",
   "metadata": {},
   "source": [
    "## question 4"
   ]
  },
  {
   "cell_type": "code",
   "execution_count": 58,
   "metadata": {},
   "outputs": [],
   "source": [
    "data = {'Size': ['1 to 4', '5 to 9', '10 to 19', '20 to 49', '50 to 99',\n",
    "                 '100 to 249', '250 to 499', '500 to 999', '1000 to 2499',\n",
    "                 '2500 to 4999', '5000 to 9999', '10000+'], \n",
    "        'Firms': [2846416, 1020772, 598153, 373345, 115544, 63845,\n",
    "                  19389, 9588, 6088, 2287, 1250, 1357], \n",
    "        'Emp': [5998912, 6714924, 8151891, 11425545, 8055535, 9788341, \n",
    "                6611734, 6340775, 8321486, 6738218, 6559020, 32556671]}\n",
    "bds = pd.DataFrame(data) \n",
    "bds = bds.set_index('Size')"
   ]
  },
  {
   "cell_type": "markdown",
   "metadata": {},
   "source": [
    "a.) bds is a dataframe.\n",
    "\n",
    "b.) it has 12 rows and 2 columns\n",
    "\n",
    "c.) its column labels are: 'Emp' and 'Firms'. its row lables are: '1 to 4', '5 to 9', '10 to 19', '20 to 49', '50 to 99', '100 to 249','250 to 499', '500 to 999', '1000 to 2499', '2500 to 4999','5000 to 9999', and '10000+'\n",
    "\n",
    "d.) The columns are integers."
   ]
  },
  {
   "cell_type": "code",
   "execution_count": 59,
   "metadata": {},
   "outputs": [
    {
     "data": {
      "text/html": [
       "<div>\n",
       "<style scoped>\n",
       "    .dataframe tbody tr th:only-of-type {\n",
       "        vertical-align: middle;\n",
       "    }\n",
       "\n",
       "    .dataframe tbody tr th {\n",
       "        vertical-align: top;\n",
       "    }\n",
       "\n",
       "    .dataframe thead th {\n",
       "        text-align: right;\n",
       "    }\n",
       "</style>\n",
       "<table border=\"1\" class=\"dataframe\">\n",
       "  <thead>\n",
       "    <tr style=\"text-align: right;\">\n",
       "      <th></th>\n",
       "      <th>Emp</th>\n",
       "      <th>Firms</th>\n",
       "    </tr>\n",
       "    <tr>\n",
       "      <th>Size</th>\n",
       "      <th></th>\n",
       "      <th></th>\n",
       "    </tr>\n",
       "  </thead>\n",
       "  <tbody>\n",
       "    <tr>\n",
       "      <th>1 to 4</th>\n",
       "      <td>5998912</td>\n",
       "      <td>2846416</td>\n",
       "    </tr>\n",
       "    <tr>\n",
       "      <th>5 to 9</th>\n",
       "      <td>6714924</td>\n",
       "      <td>1020772</td>\n",
       "    </tr>\n",
       "    <tr>\n",
       "      <th>10 to 19</th>\n",
       "      <td>8151891</td>\n",
       "      <td>598153</td>\n",
       "    </tr>\n",
       "    <tr>\n",
       "      <th>20 to 49</th>\n",
       "      <td>11425545</td>\n",
       "      <td>373345</td>\n",
       "    </tr>\n",
       "    <tr>\n",
       "      <th>50 to 99</th>\n",
       "      <td>8055535</td>\n",
       "      <td>115544</td>\n",
       "    </tr>\n",
       "    <tr>\n",
       "      <th>100 to 249</th>\n",
       "      <td>9788341</td>\n",
       "      <td>63845</td>\n",
       "    </tr>\n",
       "    <tr>\n",
       "      <th>250 to 499</th>\n",
       "      <td>6611734</td>\n",
       "      <td>19389</td>\n",
       "    </tr>\n",
       "    <tr>\n",
       "      <th>500 to 999</th>\n",
       "      <td>6340775</td>\n",
       "      <td>9588</td>\n",
       "    </tr>\n",
       "    <tr>\n",
       "      <th>1000 to 2499</th>\n",
       "      <td>8321486</td>\n",
       "      <td>6088</td>\n",
       "    </tr>\n",
       "    <tr>\n",
       "      <th>2500 to 4999</th>\n",
       "      <td>6738218</td>\n",
       "      <td>2287</td>\n",
       "    </tr>\n",
       "    <tr>\n",
       "      <th>5000 to 9999</th>\n",
       "      <td>6559020</td>\n",
       "      <td>1250</td>\n",
       "    </tr>\n",
       "    <tr>\n",
       "      <th>10000+</th>\n",
       "      <td>32556671</td>\n",
       "      <td>1357</td>\n",
       "    </tr>\n",
       "  </tbody>\n",
       "</table>\n",
       "</div>"
      ],
      "text/plain": [
       "                   Emp    Firms\n",
       "Size                           \n",
       "1 to 4         5998912  2846416\n",
       "5 to 9         6714924  1020772\n",
       "10 to 19       8151891   598153\n",
       "20 to 49      11425545   373345\n",
       "50 to 99       8055535   115544\n",
       "100 to 249     9788341    63845\n",
       "250 to 499     6611734    19389\n",
       "500 to 999     6340775     9588\n",
       "1000 to 2499   8321486     6088\n",
       "2500 to 4999   6738218     2287\n",
       "5000 to 9999   6559020     1250\n",
       "10000+        32556671     1357"
      ]
     },
     "execution_count": 59,
     "metadata": {},
     "output_type": "execute_result"
    }
   ],
   "source": [
    "bds"
   ]
  },
  {
   "cell_type": "code",
   "execution_count": 60,
   "metadata": {},
   "outputs": [
    {
     "data": {
      "text/plain": [
       "pandas.core.frame.DataFrame"
      ]
     },
     "execution_count": 60,
     "metadata": {},
     "output_type": "execute_result"
    }
   ],
   "source": [
    "type(bds)"
   ]
  },
  {
   "cell_type": "code",
   "execution_count": 61,
   "metadata": {},
   "outputs": [
    {
     "data": {
      "text/plain": [
       "(12, 2)"
      ]
     },
     "execution_count": 61,
     "metadata": {},
     "output_type": "execute_result"
    }
   ],
   "source": [
    "bds.shape"
   ]
  },
  {
   "cell_type": "code",
   "execution_count": 62,
   "metadata": {},
   "outputs": [
    {
     "data": {
      "text/plain": [
       "Index(['Emp', 'Firms'], dtype='object')"
      ]
     },
     "execution_count": 62,
     "metadata": {},
     "output_type": "execute_result"
    }
   ],
   "source": [
    "bds.columns"
   ]
  },
  {
   "cell_type": "code",
   "execution_count": 63,
   "metadata": {},
   "outputs": [
    {
     "data": {
      "text/plain": [
       "Index(['1 to 4', '5 to 9', '10 to 19', '20 to 49', '50 to 99', '100 to 249',\n",
       "       '250 to 499', '500 to 999', '1000 to 2499', '2500 to 4999',\n",
       "       '5000 to 9999', '10000+'],\n",
       "      dtype='object', name='Size')"
      ]
     },
     "execution_count": 63,
     "metadata": {},
     "output_type": "execute_result"
    }
   ],
   "source": [
    "bds.index"
   ]
  },
  {
   "cell_type": "code",
   "execution_count": 64,
   "metadata": {},
   "outputs": [
    {
     "data": {
      "text/plain": [
       "Emp      int64\n",
       "Firms    int64\n",
       "dtype: object"
      ]
     },
     "execution_count": 64,
     "metadata": {},
     "output_type": "execute_result"
    }
   ],
   "source": [
    "bds.dtypes"
   ]
  },
  {
   "cell_type": "markdown",
   "metadata": {},
   "source": [
    "## Question 5"
   ]
  },
  {
   "cell_type": "code",
   "execution_count": 65,
   "metadata": {},
   "outputs": [
    {
     "data": {
      "text/html": [
       "<div>\n",
       "<style scoped>\n",
       "    .dataframe tbody tr th:only-of-type {\n",
       "        vertical-align: middle;\n",
       "    }\n",
       "\n",
       "    .dataframe tbody tr th {\n",
       "        vertical-align: top;\n",
       "    }\n",
       "\n",
       "    .dataframe thead th {\n",
       "        text-align: right;\n",
       "    }\n",
       "</style>\n",
       "<table border=\"1\" class=\"dataframe\">\n",
       "  <thead>\n",
       "    <tr style=\"text-align: right;\">\n",
       "      <th></th>\n",
       "      <th>Emp</th>\n",
       "      <th>Firms</th>\n",
       "      <th>AvgEmp</th>\n",
       "    </tr>\n",
       "    <tr>\n",
       "      <th>Size</th>\n",
       "      <th></th>\n",
       "      <th></th>\n",
       "      <th></th>\n",
       "    </tr>\n",
       "  </thead>\n",
       "  <tbody>\n",
       "    <tr>\n",
       "      <th>1 to 4</th>\n",
       "      <td>5998912</td>\n",
       "      <td>2846416</td>\n",
       "      <td>2.107532</td>\n",
       "    </tr>\n",
       "    <tr>\n",
       "      <th>5 to 9</th>\n",
       "      <td>6714924</td>\n",
       "      <td>1020772</td>\n",
       "      <td>6.578280</td>\n",
       "    </tr>\n",
       "    <tr>\n",
       "      <th>10 to 19</th>\n",
       "      <td>8151891</td>\n",
       "      <td>598153</td>\n",
       "      <td>13.628438</td>\n",
       "    </tr>\n",
       "    <tr>\n",
       "      <th>20 to 49</th>\n",
       "      <td>11425545</td>\n",
       "      <td>373345</td>\n",
       "      <td>30.603182</td>\n",
       "    </tr>\n",
       "    <tr>\n",
       "      <th>50 to 99</th>\n",
       "      <td>8055535</td>\n",
       "      <td>115544</td>\n",
       "      <td>69.718332</td>\n",
       "    </tr>\n",
       "    <tr>\n",
       "      <th>100 to 249</th>\n",
       "      <td>9788341</td>\n",
       "      <td>63845</td>\n",
       "      <td>153.314136</td>\n",
       "    </tr>\n",
       "    <tr>\n",
       "      <th>250 to 499</th>\n",
       "      <td>6611734</td>\n",
       "      <td>19389</td>\n",
       "      <td>341.004384</td>\n",
       "    </tr>\n",
       "    <tr>\n",
       "      <th>500 to 999</th>\n",
       "      <td>6340775</td>\n",
       "      <td>9588</td>\n",
       "      <td>661.324051</td>\n",
       "    </tr>\n",
       "    <tr>\n",
       "      <th>1000 to 2499</th>\n",
       "      <td>8321486</td>\n",
       "      <td>6088</td>\n",
       "      <td>1366.866951</td>\n",
       "    </tr>\n",
       "    <tr>\n",
       "      <th>2500 to 4999</th>\n",
       "      <td>6738218</td>\n",
       "      <td>2287</td>\n",
       "      <td>2946.313074</td>\n",
       "    </tr>\n",
       "    <tr>\n",
       "      <th>5000 to 9999</th>\n",
       "      <td>6559020</td>\n",
       "      <td>1250</td>\n",
       "      <td>5247.216000</td>\n",
       "    </tr>\n",
       "    <tr>\n",
       "      <th>10000+</th>\n",
       "      <td>32556671</td>\n",
       "      <td>1357</td>\n",
       "      <td>23991.651437</td>\n",
       "    </tr>\n",
       "  </tbody>\n",
       "</table>\n",
       "</div>"
      ],
      "text/plain": [
       "                   Emp    Firms        AvgEmp\n",
       "Size                                         \n",
       "1 to 4         5998912  2846416      2.107532\n",
       "5 to 9         6714924  1020772      6.578280\n",
       "10 to 19       8151891   598153     13.628438\n",
       "20 to 49      11425545   373345     30.603182\n",
       "50 to 99       8055535   115544     69.718332\n",
       "100 to 249     9788341    63845    153.314136\n",
       "250 to 499     6611734    19389    341.004384\n",
       "500 to 999     6340775     9588    661.324051\n",
       "1000 to 2499   8321486     6088   1366.866951\n",
       "2500 to 4999   6738218     2287   2946.313074\n",
       "5000 to 9999   6559020     1250   5247.216000\n",
       "10000+        32556671     1357  23991.651437"
      ]
     },
     "execution_count": 65,
     "metadata": {},
     "output_type": "execute_result"
    }
   ],
   "source": [
    "#part a\n",
    "bds['AvgEmp'] = bds['Emp']/bds['Firms']\n",
    "bds"
   ]
  },
  {
   "cell_type": "code",
   "execution_count": 66,
   "metadata": {},
   "outputs": [
    {
     "data": {
      "text/html": [
       "<div>\n",
       "<style scoped>\n",
       "    .dataframe tbody tr th:only-of-type {\n",
       "        vertical-align: middle;\n",
       "    }\n",
       "\n",
       "    .dataframe tbody tr th {\n",
       "        vertical-align: top;\n",
       "    }\n",
       "\n",
       "    .dataframe thead th {\n",
       "        text-align: right;\n",
       "    }\n",
       "</style>\n",
       "<table border=\"1\" class=\"dataframe\">\n",
       "  <thead>\n",
       "    <tr style=\"text-align: right;\">\n",
       "      <th></th>\n",
       "      <th>Employees</th>\n",
       "      <th>Firms</th>\n",
       "      <th>AvgEmp</th>\n",
       "    </tr>\n",
       "    <tr>\n",
       "      <th>Size</th>\n",
       "      <th></th>\n",
       "      <th></th>\n",
       "      <th></th>\n",
       "    </tr>\n",
       "  </thead>\n",
       "  <tbody>\n",
       "    <tr>\n",
       "      <th>1 to 4</th>\n",
       "      <td>5998912</td>\n",
       "      <td>2846416</td>\n",
       "      <td>2.107532</td>\n",
       "    </tr>\n",
       "    <tr>\n",
       "      <th>5 to 9</th>\n",
       "      <td>6714924</td>\n",
       "      <td>1020772</td>\n",
       "      <td>6.578280</td>\n",
       "    </tr>\n",
       "    <tr>\n",
       "      <th>10 to 19</th>\n",
       "      <td>8151891</td>\n",
       "      <td>598153</td>\n",
       "      <td>13.628438</td>\n",
       "    </tr>\n",
       "    <tr>\n",
       "      <th>20 to 49</th>\n",
       "      <td>11425545</td>\n",
       "      <td>373345</td>\n",
       "      <td>30.603182</td>\n",
       "    </tr>\n",
       "    <tr>\n",
       "      <th>50 to 99</th>\n",
       "      <td>8055535</td>\n",
       "      <td>115544</td>\n",
       "      <td>69.718332</td>\n",
       "    </tr>\n",
       "    <tr>\n",
       "      <th>100 to 249</th>\n",
       "      <td>9788341</td>\n",
       "      <td>63845</td>\n",
       "      <td>153.314136</td>\n",
       "    </tr>\n",
       "    <tr>\n",
       "      <th>250 to 499</th>\n",
       "      <td>6611734</td>\n",
       "      <td>19389</td>\n",
       "      <td>341.004384</td>\n",
       "    </tr>\n",
       "    <tr>\n",
       "      <th>500 to 999</th>\n",
       "      <td>6340775</td>\n",
       "      <td>9588</td>\n",
       "      <td>661.324051</td>\n",
       "    </tr>\n",
       "    <tr>\n",
       "      <th>1000 to 2499</th>\n",
       "      <td>8321486</td>\n",
       "      <td>6088</td>\n",
       "      <td>1366.866951</td>\n",
       "    </tr>\n",
       "    <tr>\n",
       "      <th>2500 to 4999</th>\n",
       "      <td>6738218</td>\n",
       "      <td>2287</td>\n",
       "      <td>2946.313074</td>\n",
       "    </tr>\n",
       "    <tr>\n",
       "      <th>5000 to 9999</th>\n",
       "      <td>6559020</td>\n",
       "      <td>1250</td>\n",
       "      <td>5247.216000</td>\n",
       "    </tr>\n",
       "    <tr>\n",
       "      <th>10000+</th>\n",
       "      <td>32556671</td>\n",
       "      <td>1357</td>\n",
       "      <td>23991.651437</td>\n",
       "    </tr>\n",
       "  </tbody>\n",
       "</table>\n",
       "</div>"
      ],
      "text/plain": [
       "              Employees    Firms        AvgEmp\n",
       "Size                                          \n",
       "1 to 4          5998912  2846416      2.107532\n",
       "5 to 9          6714924  1020772      6.578280\n",
       "10 to 19        8151891   598153     13.628438\n",
       "20 to 49       11425545   373345     30.603182\n",
       "50 to 99        8055535   115544     69.718332\n",
       "100 to 249      9788341    63845    153.314136\n",
       "250 to 499      6611734    19389    341.004384\n",
       "500 to 999      6340775     9588    661.324051\n",
       "1000 to 2499    8321486     6088   1366.866951\n",
       "2500 to 4999    6738218     2287   2946.313074\n",
       "5000 to 9999    6559020     1250   5247.216000\n",
       "10000+         32556671     1357  23991.651437"
      ]
     },
     "execution_count": 66,
     "metadata": {},
     "output_type": "execute_result"
    }
   ],
   "source": [
    "bds.columns= ['Employees', 'Firms','AvgEmp']\n",
    "bds"
   ]
  },
  {
   "cell_type": "code",
   "execution_count": 68,
   "metadata": {},
   "outputs": [
    {
     "data": {
      "text/plain": [
       "<matplotlib.axes._subplots.AxesSubplot at 0x113b0d320>"
      ]
     },
     "execution_count": 68,
     "metadata": {},
     "output_type": "execute_result"
    },
    {
     "data": {
      "image/png": "[encoded data removed]",
      "text/plain": [
       "<matplotlib.figure.Figure at 0x114a8b860>"
      ]
     },
     "metadata": {},
     "output_type": "display_data"
    }
   ],
   "source": [
    "bds['Employees'].plot(kind='bar')"
   ]
  },
  {
   "cell_type": "markdown",
   "metadata": {},
   "source": [
    "## Quetion 6"
   ]
  },
  {
   "cell_type": "code",
   "execution_count": 70,
   "metadata": {},
   "outputs": [
    {
     "data": {
      "text/plain": [
       "Text(0.5,1,'Number of Firms')"
      ]
     },
     "execution_count": 70,
     "metadata": {},
     "output_type": "execute_result"
    },
    {
     "data": {
      "image/png": "[encoded data removed]",
      "text/plain": [
       "<matplotlib.figure.Figure at 0x1180505c0>"
      ]
     },
     "metadata": {},
     "output_type": "display_data"
    }
   ],
   "source": [
    "fig, ax = plt.subplots() #a\n",
    "bds['Firms'].plot(kind='barh', color = 'red') #b and c\n",
    "ax.set_title('Number of Firms') #d"
   ]
  },
  {
   "cell_type": "markdown",
   "metadata": {},
   "source": [
    "## Question 7"
   ]
  },
  {
   "cell_type": "code",
   "execution_count": 71,
   "metadata": {},
   "outputs": [],
   "source": [
    "paren = ['When we went to town on Monday (it was so early!) everyone was falling asleep',\n",
    "         'It is obvious (so obvious) that I am going to get a good grade on this exam',\n",
    "         'As she sang her famous line (the one they wrote that article about) the crowd went wild']"
   ]
  },
  {
   "cell_type": "code",
   "execution_count": 75,
   "metadata": {},
   "outputs": [],
   "source": [
    "def better_replace(paren,l1,l2):\n",
    "    s2 = paren\n",
    "    for i in range(len(l1)):\n",
    "        s2 = s2.replace(l1[i],l2[i])\n",
    "    return(s2)"
   ]
  },
  {
   "cell_type": "code",
   "execution_count": 76,
   "metadata": {},
   "outputs": [
    {
     "ename": "AttributeError",
     "evalue": "'list' object has no attribute 'replace'",
     "output_type": "error",
     "traceback": [
      "\u001b[0;31m---------------------------------------------------------------------------\u001b[0m",
      "\u001b[0;31mAttributeError\u001b[0m                            Traceback (most recent call last)",
      "\u001b[0;32m<ipython-input-76-f50f1bb8999e>\u001b[0m in \u001b[0;36m<module>\u001b[0;34m()\u001b[0m\n\u001b[0;32m----> 1\u001b[0;31m \u001b[0mbetter_replace\u001b[0m\u001b[0;34m(\u001b[0m\u001b[0mparen\u001b[0m\u001b[0;34m,\u001b[0m\u001b[0;34m[\u001b[0m\u001b[0;34m\"(\"\u001b[0m\u001b[0;34m,\u001b[0m\u001b[0;34m\" -\"\u001b[0m\u001b[0;34m]\u001b[0m\u001b[0;34m,\u001b[0m\u001b[0;34m[\u001b[0m\u001b[0;34m\")\"\u001b[0m\u001b[0;34m,\u001b[0m\u001b[0;34m\"- \"\u001b[0m\u001b[0;34m]\u001b[0m\u001b[0;34m)\u001b[0m\u001b[0;34m\u001b[0m\u001b[0m\n\u001b[0m",
      "\u001b[0;32m<ipython-input-75-d2d43c3c1775>\u001b[0m in \u001b[0;36mbetter_replace\u001b[0;34m(paren, l1, l2)\u001b[0m\n\u001b[1;32m      2\u001b[0m     \u001b[0ms2\u001b[0m \u001b[0;34m=\u001b[0m \u001b[0mparen\u001b[0m\u001b[0;34m\u001b[0m\u001b[0m\n\u001b[1;32m      3\u001b[0m     \u001b[0;32mfor\u001b[0m \u001b[0mi\u001b[0m \u001b[0;32min\u001b[0m \u001b[0mrange\u001b[0m\u001b[0;34m(\u001b[0m\u001b[0mlen\u001b[0m\u001b[0;34m(\u001b[0m\u001b[0ml1\u001b[0m\u001b[0;34m)\u001b[0m\u001b[0;34m)\u001b[0m\u001b[0;34m:\u001b[0m\u001b[0;34m\u001b[0m\u001b[0m\n\u001b[0;32m----> 4\u001b[0;31m         \u001b[0ms2\u001b[0m \u001b[0;34m=\u001b[0m \u001b[0ms2\u001b[0m\u001b[0;34m.\u001b[0m\u001b[0mreplace\u001b[0m\u001b[0;34m(\u001b[0m\u001b[0ml1\u001b[0m\u001b[0;34m[\u001b[0m\u001b[0mi\u001b[0m\u001b[0;34m]\u001b[0m\u001b[0;34m,\u001b[0m\u001b[0ml2\u001b[0m\u001b[0;34m[\u001b[0m\u001b[0mi\u001b[0m\u001b[0;34m]\u001b[0m\u001b[0;34m)\u001b[0m\u001b[0;34m\u001b[0m\u001b[0m\n\u001b[0m\u001b[1;32m      5\u001b[0m     \u001b[0;32mreturn\u001b[0m\u001b[0;34m(\u001b[0m\u001b[0ms2\u001b[0m\u001b[0;34m)\u001b[0m\u001b[0;34m\u001b[0m\u001b[0m\n",
      "\u001b[0;31mAttributeError\u001b[0m: 'list' object has no attribute 'replace'"
     ]
    }
   ],
   "source": [
    "better_replace(paren,[\"(\",\" -\"],[\")\",\"- \"])"
   ]
  },
  {
   "cell_type": "code",
   "execution_count": null,
   "metadata": {},
   "outputs": [],
   "source": []
  }
 ],
 "metadata": {
  "kernelspec": {
   "display_name": "Python 3",
   "language": "python",
   "name": "python3"
  },
  "language_info": {
   "codemirror_mode": {
    "name": "ipython",
    "version": 3
   },
   "file_extension": ".py",
   "mimetype": "text/x-python",
   "name": "python",
   "nbconvert_exporter": "python",
   "pygments_lexer": "ipython3",
   "version": "3.6.4"
  }
 },
 "nbformat": 4,
 "nbformat_minor": 2
}
